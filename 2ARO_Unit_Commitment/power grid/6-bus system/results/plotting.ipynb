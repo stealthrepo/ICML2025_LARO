{
 "cells": [
  {
   "cell_type": "code",
   "execution_count": 4,
   "id": "07811c99-b91c-4c86-b105-9d81c9fcc00d",
   "metadata": {
    "tags": []
   },
   "outputs": [],
   "source": [
    "import pandas as pd\n",
    "import numpy as np\n",
    "import matplotlib.pyplot as plt\n",
    "import json"
   ]
  },
  {
   "cell_type": "code",
   "execution_count": 5,
   "id": "a3d9c6d9-5f45-49ee-a1c0-600e25295da8",
   "metadata": {
    "tags": []
   },
   "outputs": [
    {
     "data": {
      "text/plain": [
       "'C:\\\\Users\\\\dube.rohit\\\\OneDrive - Texas A&M University\\\\EconDIspARO\\\\EconDispARO\\\\example_data\\\\6-bus system\\\\results'"
      ]
     },
     "execution_count": 5,
     "metadata": {},
     "output_type": "execute_result"
    }
   ],
   "source": [
    "pwd()"
   ]
  },
  {
   "cell_type": "code",
   "execution_count": null,
   "id": "bf078119-01e2-45dd-b1ae-2140d904a9d9",
   "metadata": {
    "tags": []
   },
   "outputs": [],
   "source": [
    "# Replace 'file_path.json' with the actual path to your JSON file\n",
    "file_path = 'final_CCG_results.json'\n",
    "\n",
    "# Open the JSON file and load the data\n",
    "with open(file_path, 'r') as file:\n",
    "    data = json.load(file)\n"
   ]
  },
  {
   "cell_type": "code",
   "execution_count": null,
   "id": "d6134611-03f1-4b98-b299-9b8537141966",
   "metadata": {
    "tags": []
   },
   "outputs": [],
   "source": [
    "file_path = 'final_exact_results.json'\n",
    "\n",
    "# Open the JSON file and load the data\n",
    "with open(file_path, 'r') as file:\n",
    "    data = json.load(file)"
   ]
  },
  {
   "cell_type": "code",
   "execution_count": null,
   "id": "2d8e1059-bbb3-4db3-ae4f-ba97bf649cac",
   "metadata": {},
   "outputs": [],
   "source": []
  }
 ],
 "metadata": {
  "kernelspec": {
   "display_name": "Robust",
   "language": "python",
   "name": "robust"
  },
  "language_info": {
   "codemirror_mode": {
    "name": "ipython",
    "version": 3
   },
   "file_extension": ".py",
   "mimetype": "text/x-python",
   "name": "python",
   "nbconvert_exporter": "python",
   "pygments_lexer": "ipython3",
   "version": "3.11.7"
  }
 },
 "nbformat": 4,
 "nbformat_minor": 5
}
