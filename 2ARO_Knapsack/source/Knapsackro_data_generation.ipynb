{
 "cells": [
  {
   "cell_type": "code",
   "execution_count": 1,
   "metadata": {},
   "outputs": [],
   "source": [
    "using Random\n",
    "using JuMP\n",
    "using Gurobi    \n",
    "using Distributions\n",
    "using DataFrames\n",
    "using CSV\n",
    "using Dates\n",
    "using Base.Filesystem\n",
    "\n",
    "using DataStructures"
   ]
  },
  {
   "cell_type": "code",
   "execution_count": 2,
   "metadata": {},
   "outputs": [
    {
     "data": {
      "text/plain": [
       "fullRO_master_decomposition_NN_adv_NN (generic function with 1 method)"
      ]
     },
     "metadata": {},
     "output_type": "display_data"
    }
   ],
   "source": [
    "include(\"instance_generation.jl\")\n",
    "include(\"RO_functions.jl\")"
   ]
  },
  {
   "cell_type": "markdown",
   "metadata": {},
   "source": [
    "# Two Stage Knapsack RO problem\n",
    "\n",
    "The approach is to fix the first stage decisions, this is done by solving a MIP in x by completly ignoring the uncertainities and y               \n",
    "Then Dirchlet distribution is used to generate budget uncertainities for each profit              \n",
    "The orginal problem reduces to a another MIP in y, where x and uncertainities are fixed: The objective of the this problem represents                  \n",
    "the vakue of NN model with  x, problem instance values and uncertainties are the input"
   ]
  },
  {
   "cell_type": "code",
   "execution_count": 4,
   "metadata": {},
   "outputs": [
    {
     "data": {
      "text/plain": [
       "solve_knapsack (generic function with 1 method)"
      ]
     },
     "metadata": {},
     "output_type": "display_data"
    }
   ],
   "source": [
    "function solve_knapsack(model, weights, profits, capacity; verbose=false)\n",
    "    n = length(weights)\n",
    "    # Set the verbose parameter\n",
    "    \n",
    "    \n",
    "    # Create binary decision variables\n",
    "    @variable(model, x[1:n], Bin)\n",
    "    \n",
    "    # Set objective function\n",
    "    @objective(model, Max, sum(profits[i] * x[i] for i in 1:n))\n",
    "    \n",
    "    # Add constraint: total weight should not exceed capacity\n",
    "    @constraint(model, sum(weights[i] * x[i] for i in 1:n) <= capacity)\n",
    "    \n",
    "    # Solve the model\n",
    "    optimize!(model)\n",
    "    \n",
    "    # Get the optimal solution\n",
    "    solution = Dict()\n",
    "    solution[\"objective_value\"] = objective_value(model)\n",
    "    solution[\"selected_items\"] = value.(x) #[i for i in 1:n if value(x[i]) > 0.5]\n",
    "    \n",
    "    return solution\n",
    "end"
   ]
  },
  {
   "cell_type": "code",
   "execution_count": 5,
   "metadata": {},
   "outputs": [
    {
     "data": {
      "text/plain": [
       "second_stage"
      ]
     },
     "metadata": {},
     "output_type": "display_data"
    }
   ],
   "source": [
    "\"\"\"\n",
    "    second_stage(X, info)\n",
    "\n",
    "The `second_stage` function solves a second-stage optimization problem for a knapsack problem.\n",
    "\n",
    "# Arguments\n",
    "- `X`: A vector of binary decision variables representing the first-stage solution.\n",
    "- `info`: A dictionary containing the problem information including the following keys:\n",
    "    - `\"f\"`: A vector of first-stage objective function coefficients.\n",
    "    - `\"p_bar\"`: A vector of first-stage constraint coefficients.\n",
    "    - `\"p_hat\"`: A vector of second-stage constraint coefficients.\n",
    "    - `\"t\"`: A vector of second-stage constraint coefficients.\n",
    "    - `\"C\"`: The capacity constraint.\n",
    "    - `\"Xi\"`: A vector of uncertainty values.\n",
    "    - `\"w\"`: A vector of weights.\n",
    "\n",
    "# Returns\n",
    "- `solution`: A dictionary containing the optimal solution with the following keys:\n",
    "    - `\"objective_value\"`: The objective value of the second-stage problem.\n",
    "    - `\"y\"`: A vector of binary decision variables representing the second-stage solution.\n",
    "    - `\"r\"`: A vector of binary decision variables representing an intermediate variable.\n",
    "    - `\"x\"`: A vector of binary decision variables representing the first-stage solution.\n",
    "\n",
    "\"\"\"\n",
    "function second_stage(model, X, p_bar, p_hat, t, f, C, uncern, w, verbose=false)\n",
    "\n",
    "    \n",
    "    n = length(X)\n",
    "    \n",
    "    # Create binary decision variables\n",
    "    #@variable(model, x[1:n], Bin) \n",
    "    @variable(model, y[1:n], Bin)\n",
    "    @variable(model, r[1:n], Bin) \n",
    "    \n",
    "\n",
    "    # Set objective function\n",
    "\n",
    "    @objective(model, Min, (sum((p_hat[i] * uncern[i] - f[i]) * y[i] - p_hat[i] * uncern[i] * r[i] for i in 1:n)))\n",
    "\n",
    "    # Add constraint: Select y if x is selected, \n",
    "    ## Fix to the first stage solution, the selected X is only used to maintain feasibility for the second stage\n",
    "    # @constraint(model, [i in 1:n], x[i] == X[i])\n",
    "\n",
    "    # Add constraint: Select y if x is selected\n",
    "    @constraint(model, [i in 1:n], y[i] <= X[i])\n",
    "\n",
    "    # Add constraint: select r if y is selected\n",
    "    @constraint(model, [i in 1:n], r[i] <= y[i])\n",
    "\n",
    "    # Add constraint: total weight should not exceed capacity\n",
    "    @constraint(model, sum(t[i] * r[i] + w[i] * y[i] for i in 1:n) <= C)\n",
    "    \n",
    "    # Solve the model\n",
    "\n",
    "    optimize!(model)\n",
    "\n",
    "    # Get the optimal solution\n",
    "    solution = Dict()   \n",
    "    solution[\"ss_objective_value\"] = objective_value(model)\n",
    "    solution[\"y\"] = value.(y) #[i for i in 1:n if value(y[i]) > 0.5]\n",
    "    solution[\"r\"] = value.(r) #[i for i in 1:n if value(r[i]) > 0.5]\n",
    "    solution[\"x\"] = value.(X) #[i for i in 1:n if value(r[i]) > 0.5]\n",
    "    solution[\"fs_objective_value\"] = sum((f[i] - p_bar[i]) * X[i] for i in 1:n)   #### add to the solution the first stage objective value\n",
    "    solution[\"total_objective_value\"] = solution[\"fs_objective_value\"] + solution[\"ss_objective_value\"] \n",
    "    return solution\n",
    "end"
   ]
  },
  {
   "cell_type": "code",
   "execution_count": 6,
   "metadata": {},
   "outputs": [
    {
     "data": {
      "text/plain": [
       "Dict{String, Any} with 12 entries:\n",
       "  \"f\"                             => [3.18513, 2.89089]\n",
       "  \"C\"                             => 2.25364\n",
       "  \"h\"                             => 80\n",
       "  \"delta\"                         => 0.1\n",
       "  \"p_bar\"                         => [2.39765, 2.25653]\n",
       "  \"t\"                             => [1.09835, 1.11714]\n",
       "  \"p_hat\"                         => [1.26361, 1.19156]\n",
       "  \"w\"                             => [1.14673, 1.69848]\n",
       "  \"Matrix_of_Xi\"                  => [0.008 0.182; 0.037 0.153; … ; 0.1873 0.00…\n",
       "  \"profit_uplim\"                  => [1.31871, 1.24109]\n",
       "  \"budget_uncertainity_parameter\" => 0.2\n",
       "  \"profit_downlim\"                => [1.07894, 1.01544]"
      ]
     },
     "metadata": {},
     "output_type": "display_data"
    }
   ],
   "source": [
    "info_1=knapsack_instances(1,2,3)"
   ]
  },
  {
   "cell_type": "code",
   "execution_count": 7,
   "metadata": {},
   "outputs": [
    {
     "data": {
      "text/plain": [
       "2-element Vector{Float64}:\n",
       " 0.008\n",
       " 0.182"
      ]
     },
     "metadata": {},
     "output_type": "display_data"
    }
   ],
   "source": [
    "info_1[\"Matrix_of_Xi\"][1,:]"
   ]
  },
  {
   "cell_type": "code",
   "execution_count": 7,
   "metadata": {},
   "outputs": [
    {
     "data": {
      "text/plain": [
       "2-element Vector{Float64}:\n",
       " 2.397653367382937\n",
       " 2.2565294806850034"
      ]
     },
     "metadata": {},
     "output_type": "display_data"
    }
   ],
   "source": [
    "info_1[\"p_bar\"]\n"
   ]
  },
  {
   "cell_type": "markdown",
   "metadata": {},
   "source": [
    "## Combining the functions together\n",
    "\n",
    "### Create a function that creates an instance of the problem internally by taking a seed\n",
    "\n",
    "The Created instance has the opprtunity to reduce capacity of the Knapsack such that the first stage deterministic program results are suboptimal\n",
    "\n",
    "Create L instances of the problem, for each instance create M optimal to suboptimal first stage\n",
    "For each first stage decision, create N scenarios and solve the second stage MIP\n",
    "\n",
    "Thus in total L x M first stage MIP and L x M x N MIP\n",
    "\n",
    "Outputs L x M x N results\n"
   ]
  },
  {
   "cell_type": "code",
   "execution_count": 8,
   "metadata": {},
   "outputs": [
    {
     "data": {
      "text/plain": [
       "ss_per_instances (generic function with 4 methods)"
      ]
     },
     "metadata": {},
     "output_type": "display_data"
    }
   ],
   "source": [
    "function ss_per_instances(fs_model_env, ss_model_env, folder_location, seed, num_items, num_scenarios, capacity_reduction_list=[0.75, 0.775, 0.8,  0.825, 0.85, 0.875, 0.90, 0.925, 0.95, 0.975, 1], instance::Function=knapsack_instances, solve_knapsack::Function=solve_knapsack)\n",
    "    # Check if the folder exists, if not, create it\n",
    "    if !isdir(folder_location)\n",
    "        mkdir(folder_location)\n",
    "    end\n",
    "    # Generate random data for the knapsack problem\n",
    "    info = knapsack_instances(seed, num_items; train=true, num_scenarios=num_scenarios)\n",
    "    # Initialize an empty list to store output dictionaries\n",
    "    output_list = []\n",
    "    p_bar = info[\"p_bar\"]\n",
    "    p_hat=info[\"p_hat\"]\n",
    "    t = info[\"t\"]\n",
    "    f = info[\"f\"]\n",
    "    C = info[\"C\"]\n",
    "    uncern = info[\"Matrix_of_Xi\"]\n",
    "    w = info[\"w\"]\n",
    "    gamma = info[\"budget_uncertainity_parameter\"]\n",
    "    # Create a model for the first stage problem\n",
    "    \n",
    "    # Iterate over the capacity reduction factors\n",
    "    for reduction in capacity_reduction_list\n",
    "        # Solve the first stage knapsack problem\n",
    "        fs_model = Model(optimizer_with_attributes(() -> Gurobi.Optimizer(fs_model_env)))\n",
    "        set_optimizer_attribute(fs_model, \"OutputFlag\", 0)\n",
    "        solution = solve_knapsack(fs_model, w, p_bar, C * reduction)\n",
    "\n",
    "        for i in 1:num_scenarios\n",
    "            X = solution[\"selected_items\"]\n",
    "            # Solve the second stage problem\n",
    "            ss_model = Model(optimizer_with_attributes(() -> Gurobi.Optimizer(ss_model_env)))\n",
    "            set_optimizer_attribute(ss_model, \"OutputFlag\", 0)\n",
    "            second_stage_solution = second_stage(ss_model, X, p_bar, p_hat, t, f, C, uncern[i,:], w)\n",
    "\n",
    "            r=second_stage_solution[\"r\"]\n",
    "            y=second_stage_solution[\"y\"]\n",
    "            x=second_stage_solution[\"x\"]\n",
    "            ss_obj=second_stage_solution[\"ss_objective_value\"]\n",
    "            fs_obj=second_stage_solution[\"fs_objective_value\"]\n",
    "            total_obj = second_stage_solution[\"total_objective_value\"]\n",
    "            #println(\"Second stage objective value: \", second_stage_solution[\"objective_value\"])\n",
    "            #println(\"Second stage solution: \", second_stage_solution)\n",
    "\n",
    "            output = Dict(\"p_bar\" => p_bar, \"p_hat\" => p_hat, \"t\" => t, \"f\" => f, \"uncern\" => uncern[i,:], \"w\" => w, \"first_stage_obj\" => fs_obj, \"r\"=>r, \"y\" => y, \"x\" => x, \"second_stage_obj\" => ss_obj, \"total_obj\"=> total_obj, \"Reduced Capacity\" => C * reduction, \"original_capacity\" => C, \"gamma\" => gamma, \"seed\" => seed)\n",
    "            #println(output)\n",
    "            # Append the output dictionary to the output list\n",
    "            push!(output_list, output)\n",
    "        end\n",
    "\n",
    "    end\n",
    "\n",
    "    df = DataFrame(output_list)\n",
    "    \n",
    "    #Generate a timestamp for the filename\n",
    "    timestamp = Dates.format(now(), \"yyyy-mm-dd_HH-MM-SS\")\n",
    "    \n",
    "    #Construct the filename with the timestamp and seed\n",
    "    filename = \"output_$seed-$timestamp.csv\"\n",
    "    filename = joinpath(folder_location, filename)\n",
    "    #Save the DataFrame to CSV\n",
    "    CSV.write(filename, df)\n",
    "\n",
    "    return 0\n",
    "end"
   ]
  },
  {
   "cell_type": "code",
   "execution_count": 9,
   "metadata": {},
   "outputs": [
    {
     "name": "stdout",
     "output_type": "stream",
     "text": [
      "Set parameter Username\n",
      "Academic license - for non-commercial use only - expires 2025-02-14\n",
      "Set parameter Username\n",
      "Academic license - for non-commercial use only - expires 2025-02-14\n"
     ]
    }
   ],
   "source": [
    "parent_dir = \"c:\\\\Users\\\\dube.rohit\\\\OneDrive - Texas A&M University\\\\ROoptjulia\"\n",
    "folder_path = \"pre train NN data\"\n",
    "\n",
    "lower_instance = 1       ##### lower seed\n",
    "list_to_create_x = [0.75, 0.775, 0.8,  0.825, 0.85, 0.875, 0.90, 0.925, 0.95, 0.975, 1]     #### Capacity reduction list\n",
    "num_first_stage = length(list_to_create_x)\n",
    "upper_instance = 250      ##### upper seed\n",
    "num_items = 20\n",
    "num_scenarios = 50        ##### Number of scenarios\n",
    "\n",
    "# Create the folder\n",
    "fs_model_env = Gurobi.Env()\n",
    "ss_model_env = Gurobi.Env()\n",
    "folder_name = \"instance_$(lower_instance)_$(upper_instance)_items_$(num_items)_num_of_first_stage_$(num_first_stage)_scenarios_$(num_scenarios)_total_obj\"\n",
    "full_filepath = joinpath(parent_dir, folder_path, folder_name)\n",
    "\n",
    "for instance in lower_instance:upper_instance\n",
    "    ss_per_instances(fs_model_env, ss_model_env, full_filepath, instance, num_items, num_scenarios, list_to_create_x)    ### seed = instance\n",
    "end"
   ]
  },
  {
   "cell_type": "markdown",
   "metadata": {},
   "source": [
    "## Function to solve the problem with one uncertainty"
   ]
  },
  {
   "cell_type": "code",
   "execution_count": 4,
   "metadata": {},
   "outputs": [
    {
     "data": {
      "text/plain": [
       "Dict{String, Any} with 12 entries:\n",
       "  \"f\"                             => [1281.67, 684.006, 1171.88, 796.505, 259.6…\n",
       "  \"C\"                             => 1765.35\n",
       "  \"h\"                             => 40\n",
       "  \"delta\"                         => 1.0\n",
       "  \"p_bar\"                         => [944.374, 461.589, 830.504, 573.559, 177.4…\n",
       "  \"t\"                             => [43.0911, 11.9223, 89.2382, 21.1985, 117.5…\n",
       "  \"p_hat\"                         => [599.11, 142.412, 57.0106, 533.624, 28.171…\n",
       "  \"w\"                             => [50.1227, 119.96, 393.878, 25.0702, 692.16…\n",
       "  \"Matrix_of_Xi\"                  => [0.0059 0.1341 … 0.0098 0.0159; 0.096 0.25…\n",
       "  \"profit_uplim\"                  => [944.374, 461.589, 830.504, 573.559, 177.4…\n",
       "  \"budget_uncertainity_parameter\" => 1.0\n",
       "  \"profit_downlim\"                => [0.0, 0.0, 0.0, 0.0, 0.0, 0.0, 0.0, 0.0, 0…"
      ]
     },
     "metadata": {},
     "output_type": "display_data"
    }
   ],
   "source": [
    "knapsack_instances(1,10; train=true, num_scenarios=1000)"
   ]
  },
  {
   "cell_type": "code",
   "execution_count": 5,
   "metadata": {},
   "outputs": [
    {
     "name": "stdout",
     "output_type": "stream",
     "text": [
      "Set parameter Username\n",
      "Academic license - for non-commercial use only - expires 2025-02-14\n",
      "Solving Seed: 1\n",
      "Solving Seed: 2\n",
      "Solving Seed: 3\n",
      "Solving Seed: 4\n",
      "Solving Seed: 5\n",
      "Solving Seed: 6\n",
      "Solving Seed: 7\n",
      "Solving Seed: 8\n",
      "Solving Seed: 9\n",
      "Solving Seed: 10\n",
      "Solving Seed: 11\n",
      "Solving Seed: 12\n",
      "Solving Seed: 13\n",
      "Solving Seed: 14\n",
      "Solving Seed: 15\n",
      "Solving Seed: 16\n",
      "Solving Seed: 17\n",
      "Solving Seed: 18\n",
      "Solving Seed: 19\n",
      "Solving Seed: 20\n",
      "Solving Seed: 21\n",
      "Solving Seed: 22\n",
      "Solving Seed: 23\n",
      "Solving Seed: 24\n",
      "Solving Seed: 25\n",
      "Solving Seed: 26\n",
      "Solving Seed: 27\n",
      "Solving Seed: 28\n",
      "Solving Seed: 29\n",
      "Solving Seed: 30\n",
      "Solving Seed: 31\n",
      "Solving Seed: 32\n",
      "Solving Seed: 33\n",
      "Solving Seed: 34\n",
      "Solving Seed: 35\n",
      "Solving Seed: 36\n",
      "Solving Seed: 37\n",
      "Solving Seed: 38\n",
      "Solving Seed: 39\n",
      "Solving Seed: 40\n",
      "Solving Seed: 41\n",
      "Solving Seed: 42\n",
      "Solving Seed: 43\n",
      "Solving Seed: 44\n",
      "Solving Seed: 45\n",
      "Solving Seed: 46\n",
      "Solving Seed: 47\n",
      "Solving Seed: 48\n",
      "Solving Seed: 49\n",
      "Solving Seed: 50\n",
      "Solving Seed: 51\n",
      "Solving Seed: 52\n",
      "Solving Seed: 53\n",
      "Solving Seed: 54\n",
      "Solving Seed: 55\n",
      "Solving Seed: 56\n",
      "Solving Seed: 57\n",
      "Solving Seed: 58\n",
      "Solving Seed: 59\n",
      "Solving Seed: 60\n",
      "Solving Seed: 61\n",
      "Solving Seed: 62\n",
      "Solving Seed: 63\n",
      "Solving Seed: 64\n",
      "Solving Seed: 65\n",
      "Solving Seed: 66\n",
      "Solving Seed: 67\n",
      "Solving Seed: 68\n",
      "Solving Seed: 69\n",
      "Solving Seed: 70\n",
      "Solving Seed: 71\n",
      "Solving Seed: 72\n",
      "Solving Seed: 73\n",
      "Solving Seed: 74\n",
      "Solving Seed: 75\n",
      "Solving Seed: 76\n",
      "Solving Seed: 77\n",
      "Solving Seed: 78\n",
      "Solving Seed: 79\n",
      "Solving Seed: 80\n",
      "Solving Seed: 81\n",
      "Solving Seed: 82\n",
      "Solving Seed: 83\n",
      "Solving Seed: 84\n",
      "Solving Seed: 85\n",
      "Solving Seed: 86\n",
      "Solving Seed: 87\n",
      "Solving Seed: 88\n",
      "Solving Seed: 89\n",
      "Solving Seed: 90\n",
      "Solving Seed: 91\n",
      "Solving Seed: 92\n",
      "Solving Seed: 93\n",
      "Solving Seed: 94\n",
      "Solving Seed: 95\n",
      "Solving Seed: 96\n",
      "Solving Seed: 97\n",
      "Solving Seed: 98\n",
      "Solving Seed: 99\n",
      "Solving Seed: 100\n",
      "Solving Seed: 101\n",
      "Solving Seed: 102\n",
      "Solving Seed: 103\n",
      "Solving Seed: 104\n",
      "Solving Seed: 105\n",
      "Solving Seed: 106\n",
      "Solving Seed: 107\n",
      "Solving Seed: 108\n",
      "Solving Seed: 109\n",
      "Solving Seed: 110\n",
      "Solving Seed: 111\n",
      "Solving Seed: 112\n",
      "Solving Seed: 113\n",
      "Solving Seed: 114\n",
      "Solving Seed: 115\n",
      "Solving Seed: 116\n",
      "Solving Seed: 117\n",
      "Solving Seed: 118\n",
      "Solving Seed: 119\n",
      "Solving Seed: 120\n",
      "Solving Seed: 121\n",
      "Solving Seed: 122\n",
      "Solving Seed: 123\n",
      "Solving Seed: 124\n",
      "Solving Seed: 125\n",
      "Solving Seed: 126\n",
      "Solving Seed: 127\n",
      "Solving Seed: 128\n",
      "Solving Seed: 129\n",
      "Solving Seed: 130\n",
      "Solving Seed: 131\n",
      "Solving Seed: 132\n",
      "Solving Seed: 133\n",
      "Solving Seed: 134\n",
      "Solving Seed: 135\n",
      "Solving Seed: 136\n",
      "Solving Seed: 137\n",
      "Solving Seed: 138\n",
      "Solving Seed: 139\n",
      "Solving Seed: 140\n",
      "Solving Seed: 141\n",
      "Solving Seed: 142\n",
      "Solving Seed: 143\n",
      "Solving Seed: 144\n",
      "Solving Seed: 145\n",
      "Solving Seed: 146\n",
      "Solving Seed: 147\n",
      "Solving Seed: 148\n",
      "Solving Seed: 149\n",
      "Solving Seed: 150\n",
      "Solving Seed: 151\n",
      "Solving Seed: 152\n",
      "Solving Seed: 153\n",
      "Solving Seed: 154\n",
      "Solving Seed: 155\n",
      "Solving Seed: 156\n",
      "Solving Seed: 157\n",
      "Solving Seed: 158\n",
      "Solving Seed: 159\n",
      "Solving Seed: 160\n",
      "Solving Seed: 161\n",
      "Solving Seed: 162\n",
      "Solving Seed: 163\n",
      "Solving Seed: 164\n",
      "Solving Seed: 165\n",
      "Solving Seed: 166\n",
      "Solving Seed: 167\n",
      "Solving Seed: 168\n",
      "Solving Seed: 169\n",
      "Solving Seed: 170\n",
      "Solving Seed: 171\n",
      "Solving Seed: 172\n",
      "Solving Seed: 173\n",
      "Solving Seed: 174\n",
      "Solving Seed: 175\n",
      "Solving Seed: 176\n",
      "Solving Seed: 177\n",
      "Solving Seed: 178\n",
      "Solving Seed: 179\n",
      "Solving Seed: 180\n",
      "Solving Seed: 181\n",
      "Solving Seed: 182\n",
      "Solving Seed: 183\n",
      "Solving Seed: 184\n",
      "Solving Seed: 185\n",
      "Solving Seed: 186\n",
      "Solving Seed: 187\n",
      "Solving Seed: 188\n",
      "Solving Seed: 189\n",
      "Solving Seed: 190\n",
      "Solving Seed: 191\n",
      "Solving Seed: 192\n",
      "Solving Seed: 193\n",
      "Solving Seed: 194\n",
      "Solving Seed: 195\n",
      "Solving Seed: 196\n",
      "Solving Seed: 197\n",
      "Solving Seed: 198\n",
      "Solving Seed: 199\n",
      "Solving Seed: 200\n",
      "Solving Seed: 201\n",
      "Solving Seed: 202\n",
      "Solving Seed: 203\n",
      "Solving Seed: 204\n",
      "Solving Seed: 205\n",
      "Solving Seed: 206\n",
      "Solving Seed: 207\n",
      "Solving Seed: 208\n",
      "Solving Seed: 209\n",
      "Solving Seed: 210\n",
      "Solving Seed: 211\n",
      "Solving Seed: 212\n",
      "Solving Seed: 213\n",
      "Solving Seed: 214\n",
      "Solving Seed: 215\n",
      "Solving Seed: 216\n",
      "Solving Seed: 217\n",
      "Solving Seed: 218\n",
      "Solving Seed: 219\n",
      "Solving Seed: 220\n",
      "Solving Seed: 221\n",
      "Solving Seed: 222\n",
      "Solving Seed: 223\n",
      "Solving Seed: 224\n",
      "Solving Seed: 225\n",
      "Solving Seed: 226\n",
      "Solving Seed: 227\n",
      "Solving Seed: 228\n",
      "Solving Seed: 229\n",
      "Solving Seed: 230\n",
      "Solving Seed: 231\n",
      "Solving Seed: 232\n",
      "Solving Seed: 233\n",
      "Solving Seed: 234\n",
      "Solving Seed: 235\n",
      "Solving Seed: 236\n",
      "Solving Seed: 237\n",
      "Solving Seed: 238\n",
      "Solving Seed: 239\n",
      "Solving Seed: 240\n",
      "Solving Seed: 241\n",
      "Solving Seed: 242\n",
      "Solving Seed: 243\n",
      "Solving Seed: 244\n",
      "Solving Seed: 245\n",
      "Solving Seed: 246\n",
      "Solving Seed: 247\n",
      "Solving Seed: 248\n",
      "Solving Seed: 249\n",
      "Solving Seed: 250\n"
     ]
    },
    {
     "data": {
      "text/plain": [
       "\"output_exact_pretrain_I=30.csv\""
      ]
     },
     "metadata": {},
     "output_type": "display_data"
    }
   ],
   "source": [
    "I=30\n",
    "output_list = []\n",
    "model_exact_env = Gurobi.Env()\n",
    "for seed in 1:250\n",
    "    instance = knapsack_instances(seed,I; train=true, num_scenarios=1000)\n",
    "    f = instance[\"f\"]\n",
    "    p_bar = instance[\"p_bar\"]\n",
    "    p_hat = instance[\"p_hat\"]\n",
    "    t = instance[\"t\"]\n",
    "    C = instance[\"C\"]\n",
    "    uncern = instance[\"Matrix_of_Xi\"]\n",
    "    w = instance[\"w\"]\n",
    "    gamma = instance[\"budget_uncertainity_parameter\"]\n",
    "    uncertainty_matrix = instance[\"Matrix_of_Xi\"]\n",
    "\n",
    "    uncertainty_dict = OrderedDict()\n",
    "\n",
    "    num_uncerntainties = size(uncertainty_matrix)[1]\n",
    "    println(\"Solving Seed: \", seed)\n",
    "    for i in 1:num_uncerntainties\n",
    "        uncertainty_dict[1] = uncertainty_matrix[i,:]\n",
    "        result_per_uncertainty = master_stage_exact(model_exact_env, I, uncertainty_dict, f, p_bar, t, p_hat, C, w)\n",
    "        X = result_per_uncertainty[\"X\"]\n",
    "        #println(\"objective value: \", result_per_uncertainty[\"objective_value\"])\n",
    "        results = Dict(\"objective_value\" => result_per_uncertainty[\"objective_value\"], \"f\"=>f, \"p_bar\"=>p_bar, \"p_hat\"=>p_hat, \"t\"=>t, \"C\"=>C, \"w\"=>w, \"uncertainty\"=>uncertainty_dict[1], \"gamma\"=>gamma, \"seed\"=>seed, \"X\"=>X)\n",
    "        push!(output_list, results)\n",
    "    end\n",
    "end\n",
    "\n",
    "df = DataFrame(output_list)\n",
    "file_name = \"output_exact_pretrain_I=$(I).csv\"\n",
    "CSV.write(file_name, df)"
   ]
  },
  {
   "cell_type": "code",
   "execution_count": null,
   "metadata": {},
   "outputs": [],
   "source": []
  }
 ],
 "metadata": {
  "kernelspec": {
   "display_name": "Julia 1.10.4",
   "language": "julia",
   "name": "julia-1.10"
  },
  "language_info": {
   "file_extension": ".jl",
   "mimetype": "application/julia",
   "name": "julia",
   "version": "1.10.4"
  }
 },
 "nbformat": 4,
 "nbformat_minor": 2
}
