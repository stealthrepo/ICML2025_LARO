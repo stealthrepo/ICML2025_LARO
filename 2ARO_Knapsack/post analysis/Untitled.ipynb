{
 "cells": [
  {
   "cell_type": "code",
   "execution_count": 1,
   "id": "a8722c69-1cf7-4d3a-beeb-2ba9ec6c212f",
   "metadata": {
    "tags": []
   },
   "outputs": [],
   "source": [
    "import pandas as pd\n",
    "import numpy as np\n",
    "import matplotlib.pyplot as plt\n",
    "\n",
    "import os\n",
    "import json"
   ]
  },
  {
   "cell_type": "code",
   "execution_count": 2,
   "id": "19aff9ae-1906-425b-a161-aad22aa2959f",
   "metadata": {
    "tags": []
   },
   "outputs": [],
   "source": [
    "parent_dir = 'C:\\\\Users\\\\dube.rohit\\\\OneDrive - Texas A&M University\\\\ROoptjulia\\\\'\n",
    "working_folder = 'Three Stage RO' \n",
    "results_folder = 'results NN 2SRO'"
   ]
  },
  {
   "cell_type": "code",
   "execution_count": 3,
   "id": "a3b8044f-1ba5-42a0-8361-3670d865aea7",
   "metadata": {
    "tags": []
   },
   "outputs": [],
   "source": [
    "I = 30"
   ]
  },
  {
   "cell_type": "code",
   "execution_count": 4,
   "id": "50562b7e-1157-40b1-8694-8eff3702fe1a",
   "metadata": {
    "tags": []
   },
   "outputs": [],
   "source": [
    "file_name_NN = \"results_2SRO_\"+str(I)+\".json\"\n",
    "file_name_exact = \"results_2SRO_exact\"+str(I)+\".json\"\n",
    "file_path = os.path.join(parent_dir, working_folder, results_folder, file_name_NN)\n",
    "with open(file_path, 'r') as file:\n",
    "    result_NN = json.load(file)\n",
    "    \n",
    "file_path = os.path.join(parent_dir, working_folder, results_folder, file_name_exact)\n",
    "with open(file_path, 'r') as file:\n",
    "    result_exact = json.load(file)"
   ]
  },
  {
   "cell_type": "code",
   "execution_count": 5,
   "id": "418ccb9d-9e09-4ab0-8861-6d8a91a9b118",
   "metadata": {
    "tags": []
   },
   "outputs": [
    {
     "data": {
      "text/plain": [
       "dict_keys(['Master_solution', 'iterations_to_convergence', 'Adversarial_solution', 'lower_bound_CCG', 'upper_bound_CCG'])"
      ]
     },
     "execution_count": 5,
     "metadata": {},
     "output_type": "execute_result"
    }
   ],
   "source": [
    "result_NN[\"1\"].keys()"
   ]
  },
  {
   "cell_type": "code",
   "execution_count": 6,
   "id": "bf83f105-b123-45ea-bb9f-0a8696ad7833",
   "metadata": {
    "tags": []
   },
   "outputs": [
    {
     "data": {
      "text/plain": [
       "-10229.491437390874"
      ]
     },
     "execution_count": 6,
     "metadata": {},
     "output_type": "execute_result"
    }
   ],
   "source": [
    "result_NN[\"1\"]['Master_solution']['objective_value']"
   ]
  },
  {
   "cell_type": "code",
   "execution_count": 7,
   "id": "1d44313d-be42-4adf-859d-48acec9241e6",
   "metadata": {
    "tags": []
   },
   "outputs": [
    {
     "data": {
      "text/plain": [
       "dict_keys(['Master_solution', 'iterations_to_convergence', 'Adversarial_solution', 'lower_bound_CCG', 'upper_bound_CCG'])"
      ]
     },
     "execution_count": 7,
     "metadata": {},
     "output_type": "execute_result"
    }
   ],
   "source": [
    "result_exact['1'].keys()"
   ]
  },
  {
   "cell_type": "code",
   "execution_count": 8,
   "id": "0cc77bcd-7188-494f-ad71-ac7ab45cf866",
   "metadata": {
    "tags": []
   },
   "outputs": [
    {
     "data": {
      "text/plain": [
       "-10049.177141318409"
      ]
     },
     "execution_count": 8,
     "metadata": {},
     "output_type": "execute_result"
    }
   ],
   "source": [
    "result_exact['1']['Master_solution']['objective_value']"
   ]
  },
  {
   "cell_type": "code",
   "execution_count": 9,
   "id": "994e45bf-7cfe-4ab1-82b2-9a543f8d1524",
   "metadata": {
    "tags": []
   },
   "outputs": [],
   "source": [
    "objective_value_dict_NN = dict()\n",
    "objective_value_dict_exact = dict()\n",
    "objective_value_diff = dict()"
   ]
  },
  {
   "cell_type": "code",
   "execution_count": 10,
   "id": "daadeb73-e255-4064-b0c6-ffc4f6ffac6d",
   "metadata": {
    "tags": []
   },
   "outputs": [],
   "source": [
    "objective_value_dict_NN[I] = np.array([result_NN[str(x)]['Master_solution']['objective_value'] for x in range(1,251)])\n",
    "#objective_value_dict_exact[I] = np.array([result_exact[str(x)]['lower_bound_CCG'] for x in range(1,251)])\n",
    "objective_value_dict_exact[I] = np.array([result_exact[str(x)]['Master_solution']['objective_value'] for x in range(1,251)])\n",
    "objective_value_diff[I] = objective_value_dict_NN[I] - objective_value_dict_exact[I]"
   ]
  },
  {
   "cell_type": "code",
   "execution_count": 11,
   "id": "9cced582-ad68-4bd1-9825-892c0b4ace72",
   "metadata": {
    "tags": []
   },
   "outputs": [
    {
     "data": {
      "text/plain": [
       "(array([ 2.,  0.,  4., 20., 49., 47., 58., 36., 27.,  7.]),\n",
       " array([-6.56151839, -5.2360655 , -3.91061261, -2.58515972, -1.25970684,\n",
       "         0.06574605,  1.39119894,  2.71665183,  4.04210471,  5.3675576 ,\n",
       "         6.69301049]),\n",
       " <BarContainer object of 10 artists>)"
      ]
     },
     "execution_count": 11,
     "metadata": {},
     "output_type": "execute_result"
    },
    {
     "data": {
      "image/png": "[encoded data removed]",
      "text/plain": [
       "<Figure size 640x480 with 1 Axes>"
      ]
     },
     "metadata": {},
     "output_type": "display_data"
    }
   ],
   "source": [
    "plt.hist(objective_value_diff[I]*100/objective_value_dict_exact[I])"
   ]
  },
  {
   "cell_type": "code",
   "execution_count": 12,
   "id": "55c0b4a6-2856-4956-89f1-0f93f9a2aee5",
   "metadata": {},
   "outputs": [],
   "source": [
    "uncr_no = np.array([result_exact[str(x)]['iterations_to_convergence'] for x in range(1,251)])"
   ]
  },
  {
   "cell_type": "code",
   "execution_count": 13,
   "id": "96a6e67a-e019-4c19-87b9-2e26f59550b4",
   "metadata": {},
   "outputs": [
    {
     "data": {
      "text/plain": [
       "9.24"
      ]
     },
     "execution_count": 13,
     "metadata": {},
     "output_type": "execute_result"
    }
   ],
   "source": [
    "uncr_no.mean()"
   ]
  },
  {
   "cell_type": "code",
   "execution_count": null,
   "id": "2dc395d1-04b5-4ea3-bd2e-91c687c7ce2d",
   "metadata": {},
   "outputs": [],
   "source": []
  }
 ],
 "metadata": {
  "kernelspec": {
   "display_name": "Robust",
   "language": "python",
   "name": "robust"
  },
  "language_info": {
   "codemirror_mode": {
    "name": "ipython",
    "version": 3
   },
   "file_extension": ".py",
   "mimetype": "text/x-python",
   "name": "python",
   "nbconvert_exporter": "python",
   "pygments_lexer": "ipython3",
   "version": "3.11.7"
  }
 },
 "nbformat": 4,
 "nbformat_minor": 5
}
